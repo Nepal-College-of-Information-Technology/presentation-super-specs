{
 "cells": [
  {
   "cell_type": "code",
   "execution_count": 2,
   "id": "05e8ed6e-e65e-4338-bfde-bf32f79f1ef7",
   "metadata": {},
   "outputs": [],
   "source": [
    "import numpy as np\n",
    "\n",
    "# Seed for reproducibility\n",
    "np.random.seed(42)\n",
    "\n",
    "# Network architecture\n",
    "input_size = 2\n",
    "hidden_size = 2\n",
    "output_size = 1\n"
   ]
  },
  {
   "cell_type": "markdown",
   "id": "d36d86a2-9bed-43f9-b890-c92aa9a916f6",
   "metadata": {},
   "source": [
    "# 1. Initialize Weights and Biases"
   ]
  },
  {
   "cell_type": "code",
   "execution_count": 3,
   "id": "ed5c093b-c55b-4385-b84a-5e7cb1da00a1",
   "metadata": {},
   "outputs": [
    {
     "ename": "NameError",
     "evalue": "name 'W1' is not defined",
     "output_type": "error",
     "traceback": [
      "\u001b[0;31m---------------------------------------------------------------------------\u001b[0m",
      "\u001b[0;31mNameError\u001b[0m                                 Traceback (most recent call last)",
      "Cell \u001b[0;32mIn[3], line 1\u001b[0m\n\u001b[0;32m----> 1\u001b[0m \u001b[43mW1\u001b[49m, b1, W2, b2\n",
      "\u001b[0;31mNameError\u001b[0m: name 'W1' is not defined"
     ]
    }
   ],
   "source": [
    "W1, b1, W2, b2"
   ]
  },
  {
   "cell_type": "code",
   "execution_count": 4,
   "id": "1f76f5f7-a8c8-4ddd-8034-2537683001a3",
   "metadata": {},
   "outputs": [],
   "source": [
    "def sigmoid(x):\n",
    "    return 1 / (1 + np.exp(-x))\n",
    "\n",
    "def forward_pass(X):\n",
    "    Z1 = np.dot(X, W1) + b1\n",
    "    A1 = sigmoid(Z1)\n",
    "    Z2 = np.dot(A1, W2) + b2\n",
    "    A2 = sigmoid(Z2)\n",
    "    return Z1, A1, Z2, A2\n"
   ]
  },
  {
   "cell_type": "code",
   "execution_count": 5,
   "id": "6700ba99-e620-4e04-86ee-139d627e7c3c",
   "metadata": {},
   "outputs": [
    {
     "ename": "NameError",
     "evalue": "name 'W1' is not defined",
     "output_type": "error",
     "traceback": [
      "\u001b[0;31m---------------------------------------------------------------------------\u001b[0m",
      "\u001b[0;31mNameError\u001b[0m                                 Traceback (most recent call last)",
      "Cell \u001b[0;32mIn[5], line 1\u001b[0m\n\u001b[0;32m----> 1\u001b[0m \u001b[43mforward_pass\u001b[49m\u001b[43m(\u001b[49m\u001b[43mnp\u001b[49m\u001b[38;5;241;43m.\u001b[39;49m\u001b[43mzeros\u001b[49m\u001b[43m(\u001b[49m\u001b[43m(\u001b[49m\u001b[38;5;241;43m2\u001b[39;49m\u001b[43m,\u001b[49m\u001b[43m \u001b[49m\u001b[38;5;241;43m2\u001b[39;49m\u001b[43m)\u001b[49m\u001b[43m)\u001b[49m\u001b[43m)\u001b[49m\n",
      "Cell \u001b[0;32mIn[4], line 5\u001b[0m, in \u001b[0;36mforward_pass\u001b[0;34m(X)\u001b[0m\n\u001b[1;32m      4\u001b[0m \u001b[38;5;28;01mdef\u001b[39;00m \u001b[38;5;21mforward_pass\u001b[39m(X):\n\u001b[0;32m----> 5\u001b[0m     Z1 \u001b[38;5;241m=\u001b[39m np\u001b[38;5;241m.\u001b[39mdot(X, \u001b[43mW1\u001b[49m) \u001b[38;5;241m+\u001b[39m b1\n\u001b[1;32m      6\u001b[0m     A1 \u001b[38;5;241m=\u001b[39m sigmoid(Z1)\n\u001b[1;32m      7\u001b[0m     Z2 \u001b[38;5;241m=\u001b[39m np\u001b[38;5;241m.\u001b[39mdot(A1, W2) \u001b[38;5;241m+\u001b[39m b2\n",
      "\u001b[0;31mNameError\u001b[0m: name 'W1' is not defined"
     ]
    }
   ],
   "source": [
    "forward_pass(np.zeros((2, 2)))"
   ]
  },
  {
   "cell_type": "code",
   "execution_count": 6,
   "id": "bd42e0fb-05ed-4b25-ae62-f8fcaed3f91a",
   "metadata": {},
   "outputs": [],
   "source": [
    "def compute_loss(Y, A2):\n",
    "    m = Y.shape[0]\n",
    "    loss = -1/m * np.sum(Y * np.log(A2) + (1 - Y) * np.log(1 - A2))\n",
    "    return loss\n"
   ]
  },
  {
   "cell_type": "code",
   "execution_count": 7,
   "id": "35977b60-a96c-4135-a888-199fbfeab5b0",
   "metadata": {},
   "outputs": [],
   "source": [
    "def backward_pass(X, Y, Z1, A1, Z2, A2):\n",
    "    m = X.shape[0]\n",
    "\n",
    "    # Output layer error\n",
    "    dZ2 = A2 - Y\n",
    "    dW2 = 1/m * np.dot(A1.T, dZ2)\n",
    "    db2 = 1/m * np.sum(dZ2, axis=0, keepdims=True)\n",
    "\n",
    "    # Hidden layer error\n",
    "    dA1 = np.dot(dZ2, W2.T)\n",
    "    dZ1 = dA1 * A1 * (1 - A1)  # derivative of sigmoid\n",
    "    dW1 = 1/m * np.dot(X.T, dZ1)\n",
    "    db1 = 1/m * np.sum(dZ1, axis=0, keepdims=True)\n",
    "    \n",
    "    return dW1, db1, dW2, db2\n"
   ]
  },
  {
   "cell_type": "code",
   "execution_count": 8,
   "id": "27b937f2-7101-45a4-b2e5-e1f9f8f8786e",
   "metadata": {},
   "outputs": [],
   "source": [
    "def update_parameters(W1, b1, W2, b2, dW1, db1, dW2, db2, learning_rate):\n",
    "    W1 -= learning_rate * dW1\n",
    "    b1 -= learning_rate * db1\n",
    "    W2 -= learning_rate * dW2\n",
    "    b2 -= learning_rate * db2\n",
    "    return W1, b1, W2, b2\n"
   ]
  },
  {
   "cell_type": "code",
   "execution_count": 9,
   "id": "66d3f18a-9406-47d7-83e0-df7170df4e87",
   "metadata": {},
   "outputs": [],
   "source": [
    "\n",
    "# Initialize weights and biases\n",
    "W1 = np.random.randn(input_size, hidden_size)\n",
    "b1 = np.zeros((1, hidden_size))\n",
    "W2 = np.random.randn(hidden_size, output_size)\n",
    "b2 = np.zeros((1, output_size))\n"
   ]
  },
  {
   "cell_type": "code",
   "execution_count": 15,
   "id": "b6f52862-4785-4d97-9d36-3c43ef556657",
   "metadata": {},
   "outputs": [
    {
     "name": "stdout",
     "output_type": "stream",
     "text": [
      "Epoch 0, Loss: 0.3468165731322421\n",
      "Predictions: [[2.57317831e-04]\n",
      " [4.99881169e-01]\n",
      " [9.99751968e-01]\n",
      " [5.00112088e-01]]\n"
     ]
    }
   ],
   "source": [
    "# Training data (XOR problem)\n",
    "X = np.array([[0, 0], [0, 1], [1, 0], [1, 1]])\n",
    "Y = np.array([[0], [1], [1], [0]])\n",
    "\n",
    "# Hyperparameters\n",
    "learning_rate = 0.01\n",
    "epochs = 10000\n",
    "\n",
    "# Training loop\n",
    "for epoch in range(epochs):\n",
    "\n",
    "    # 2. Perform Forward Pass\n",
    "    Z1, A1, Z2, A2 = forward_pass(X)\n",
    "\n",
    "    # 3. Compute loss\n",
    "    loss = compute_loss(Y, A2)\n",
    "\n",
    "    # 4. perform backward\n",
    "    dW1, db1, dW2, db2 = backward_pass(X, Y, Z1, A1, Z2, A2)\n",
    "\n",
    "    # 5. update weights and biases\n",
    "    W1, b1, W2, b2 = update_parameters(W1, b1, W2, b2, dW1, db1, dW2, db2, learning_rate)\n",
    "    \n",
    "    if epoch % 10000 == 0:\n",
    "        print(f'Epoch {epoch}, Loss: {loss}')\n",
    "\n",
    "    # 6. repeat steps 2-5 until convergence\n",
    "\n",
    "\n",
    "# Test the network\n",
    "Z1, A1, Z2, A2 = forward_pass(X)\n",
    "print('Predictions:', A2)\n"
   ]
  },
  {
   "cell_type": "code",
   "execution_count": null,
   "id": "d8dbd8c2-ef15-41c3-a169-c81059a38cd5",
   "metadata": {},
   "outputs": [],
   "source": []
  },
  {
   "cell_type": "code",
   "execution_count": null,
   "id": "a7adc659-5104-4a9b-a37c-ca0aa931be92",
   "metadata": {},
   "outputs": [],
   "source": []
  },
  {
   "cell_type": "code",
   "execution_count": null,
   "id": "fd0b5511-dac8-4687-ac11-444470c99c27",
   "metadata": {},
   "outputs": [],
   "source": []
  }
 ],
 "metadata": {
  "kernelspec": {
   "display_name": "Python 3 (ipykernel)",
   "language": "python",
   "name": "python3"
  },
  "language_info": {
   "codemirror_mode": {
    "name": "ipython",
    "version": 3
   },
   "file_extension": ".py",
   "mimetype": "text/x-python",
   "name": "python",
   "nbconvert_exporter": "python",
   "pygments_lexer": "ipython3",
   "version": "3.12.3"
  }
 },
 "nbformat": 4,
 "nbformat_minor": 5
}
